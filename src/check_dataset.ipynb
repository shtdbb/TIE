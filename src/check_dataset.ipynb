{
 "cells": [
  {
   "cell_type": "markdown",
   "metadata": {},
   "source": [
    "## 1. 处理 CONLL04"
   ]
  },
  {
   "cell_type": "code",
   "execution_count": 81,
   "metadata": {},
   "outputs": [
    {
     "name": "stdout",
     "output_type": "stream",
     "text": [
      "1153\n"
     ]
    }
   ],
   "source": [
    "import json\n",
    "\n",
    "def load_json(file_path: str) -> list[dict]:\n",
    "    with open(file_path, \"r\", encoding=\"utf-8\") as f:\n",
    "        data = json.loads(f.read().strip())\n",
    "    return data\n",
    "\n",
    "data_train = load_json(\"../data/CONLL04_processed/conll04_train_dev.json\")\n",
    "print(len(data_train))"
   ]
  },
  {
   "cell_type": "code",
   "execution_count": 94,
   "metadata": {},
   "outputs": [
    {
     "name": "stdout",
     "output_type": "stream",
     "text": [
      "{'entities': {'Loc': {'short': 'Loc', 'verbose': 'Location'}, 'Org': {'short': 'Org', 'verbose': 'Organization'}, 'Peop': {'short': 'Peop', 'verbose': 'People'}, 'Other': {'short': 'Other', 'verbose': 'Other'}}, 'relations': {'Work_For': {'short': 'Work', 'verbose': 'Work for', 'symmetric': False}, 'Kill': {'short': 'Kill', 'verbose': 'Kill', 'symmetric': False}, 'OrgBased_In': {'short': 'OrgBI', 'verbose': 'Organization based in', 'symmetric': False}, 'Live_In': {'short': 'Live', 'verbose': 'Live in', 'symmetric': False}, 'Located_In': {'short': 'LocIn', 'verbose': 'Located in', 'symmetric': False}}}\n",
      "dict_keys(['tokens', 'entities', 'relations', 'orig_id'])\n"
     ]
    },
    {
     "data": {
      "text/plain": [
       "(\"In 1846 , ` ` Buffalo Bill ' ' Cody was born near Davenport , Iowa.\",\n",
       " [{'type': 'Peop', 'start': 5, 'end': 7},\n",
       "  {'type': 'Peop', 'start': 9, 'end': 10},\n",
       "  {'type': 'Loc', 'start': 13, 'end': 16}],\n",
       " [{'type': 'Live_In', 'head': 0, 'tail': 2},\n",
       "  {'type': 'Live_In', 'head': 1, 'tail': 2}],\n",
       " 5246)"
      ]
     },
     "execution_count": 94,
     "metadata": {},
     "output_type": "execute_result"
    }
   ],
   "source": [
    "type_map = load_json(\"../data/CONLL04_processed/conll04_types.json\")\n",
    "print(type_map)\n",
    "\n",
    "i = 1000\n",
    "print(data_train[i].keys())\n",
    "\" \".join(data_train[i][\"tokens\"]), data_train[i][\"entities\"], data_train[i][\"relations\"], data_train[i][\"orig_id\"]"
   ]
  },
  {
   "cell_type": "markdown",
   "metadata": {},
   "source": [
    "## 2. 处理 DuIE"
   ]
  },
  {
   "cell_type": "code",
   "execution_count": 1,
   "metadata": {},
   "outputs": [
    {
     "name": "stdout",
     "output_type": "stream",
     "text": [
      "191967\n"
     ]
    }
   ],
   "source": [
    "import json\n",
    "\n",
    "def load_json(file_path: str) -> list[dict]:\n",
    "    with open(file_path, \"r\", encoding=\"utf-8\") as f:\n",
    "        data = json.loads(f.read().strip())\n",
    "    return data\n",
    "\n",
    "data_train = load_json(\"../data/DuIE2_processed/train.json\")\n",
    "data_dev = load_json(\"../data/DuIE2_processed/dev.json\")\n",
    "datas = data_train + data_dev\n",
    "print(len(datas))"
   ]
  },
  {
   "cell_type": "code",
   "execution_count": null,
   "metadata": {},
   "outputs": [],
   "source": [
    "ents = set()\n",
    "rels = set()\n",
    "for data in datas:\n",
    "    for triplet in data[\"relations\"]:\n",
    "        rels.add(triplet[\"type\"])"
   ]
  }
 ],
 "metadata": {
  "kernelspec": {
   "display_name": "sht",
   "language": "python",
   "name": "python3"
  },
  "language_info": {
   "codemirror_mode": {
    "name": "ipython",
    "version": 3
   },
   "file_extension": ".py",
   "mimetype": "text/x-python",
   "name": "python",
   "nbconvert_exporter": "python",
   "pygments_lexer": "ipython3",
   "version": "3.11.11"
  }
 },
 "nbformat": 4,
 "nbformat_minor": 2
}
